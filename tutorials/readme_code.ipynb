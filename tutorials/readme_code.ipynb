{
 "cells": [
  {
   "cell_type": "code",
   "execution_count": 21,
   "id": "07614ca9-367b-495c-8e23-a25a38c4881e",
   "metadata": {},
   "outputs": [
    {
     "name": "stdout",
     "output_type": "stream",
     "text": [
      "[5.07542049e-01 1.56552634e-33 8.07817653e-02]\n"
     ]
    }
   ],
   "source": [
    "import numpy as np\n",
    "from qiskit import QuantumCircuit\n",
    "from qiskit.circuit.library import XXPlusYYGate\n",
    "\n",
    "rng = np.random.default_rng(seed=123)\n",
    "angles = rng.uniform(0, 2*np.pi, size=12)\n",
    "qc = QuantumCircuit(4)\n",
    "qc.x([0, 2])\n",
    "qc.append(XXPlusYYGate(theta=angles[0], beta=angles[1]), [0, 1])\n",
    "qc.cp(theta=angles[3], control_qubit=1, target_qubit=2)\n",
    "qc.append(XXPlusYYGate(theta=angles[4], beta=angles[5]), [1, 2])\n",
    "qc.cp(theta=angles[6], control_qubit=0, target_qubit=1)\n",
    "qc.p(theta=angles[7], qubit=0)\n",
    "qc.append(XXPlusYYGate(theta=angles[8], beta=angles[9]), [2, 3])\n",
    "qc.append(XXPlusYYGate(theta=angles[10], beta=angles[11]), [0, 1])\n",
    "\n",
    "from extraferm import outcome_probabilities\n",
    "\n",
    "bitstrings = [0b0101, 0b1100, 0b0011]\n",
    "print(outcome_probabilities(circuit=qc, outcome_states=bitstrings, trajectory_count=100_000))\n",
    "qc.draw(\"mpl\", scale=.8, fold=-1)\n",
    "qc.draw(\"mpl\", scale=0.8, fold=-1).savefig(\"circuit.pdf\", bbox_inches=\"tight\")"
   ]
  }
 ],
 "metadata": {
  "kernelspec": {
   "display_name": "Python 3 (ipykernel)",
   "language": "python",
   "name": "python3"
  },
  "language_info": {
   "codemirror_mode": {
    "name": "ipython",
    "version": 3
   },
   "file_extension": ".py",
   "mimetype": "text/x-python",
   "name": "python",
   "nbconvert_exporter": "python",
   "pygments_lexer": "ipython3",
   "version": "3.12.2"
  }
 },
 "nbformat": 4,
 "nbformat_minor": 5
}
